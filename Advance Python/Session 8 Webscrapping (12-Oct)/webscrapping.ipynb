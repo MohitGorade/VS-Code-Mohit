{
 "cells": [
  {
   "cell_type": "markdown",
   "metadata": {},
   "source": [
    "## Webscrapping"
   ]
  },
  {
   "cell_type": "markdown",
   "metadata": {},
   "source": [
    "#### 1. Install requuests and beautiful soup library"
   ]
  },
  {
   "cell_type": "code",
   "execution_count": 1,
   "metadata": {},
   "outputs": [
    {
     "name": "stdout",
     "output_type": "stream",
     "text": [
      "Requirement already satisfied: requests in d:\\vs code mohit\\repository\\venv\\lib\\site-packages (2.31.0)\n",
      "Requirement already satisfied: bs4 in d:\\vs code mohit\\repository\\venv\\lib\\site-packages (0.0.1)\n",
      "Requirement already satisfied: charset-normalizer<4,>=2 in d:\\vs code mohit\\repository\\venv\\lib\\site-packages (from requests) (3.3.0)\n",
      "Requirement already satisfied: idna<4,>=2.5 in d:\\vs code mohit\\repository\\venv\\lib\\site-packages (from requests) (3.4)\n",
      "Requirement already satisfied: urllib3<3,>=1.21.1 in d:\\vs code mohit\\repository\\venv\\lib\\site-packages (from requests) (2.0.6)\n",
      "Requirement already satisfied: certifi>=2017.4.17 in d:\\vs code mohit\\repository\\venv\\lib\\site-packages (from requests) (2023.7.22)\n",
      "Requirement already satisfied: beautifulsoup4 in d:\\vs code mohit\\repository\\venv\\lib\\site-packages (from bs4) (4.12.2)\n",
      "Requirement already satisfied: soupsieve>1.2 in d:\\vs code mohit\\repository\\venv\\lib\\site-packages (from beautifulsoup4->bs4) (2.5)\n",
      "Note: you may need to restart the kernel to use updated packages.\n"
     ]
    }
   ],
   "source": [
    "%pip install requests bs4"
   ]
  },
  {
   "cell_type": "markdown",
   "metadata": {},
   "source": [
    "## Restart and run all cells"
   ]
  },
  {
   "cell_type": "code",
   "execution_count": 2,
   "metadata": {},
   "outputs": [],
   "source": [
    "from warnings import filterwarnings\n",
    "filterwarnings('ignore')"
   ]
  },
  {
   "cell_type": "code",
   "execution_count": 3,
   "metadata": {},
   "outputs": [],
   "source": [
    "import requests\n",
    "from bs4 import BeautifulSoup"
   ]
  },
  {
   "cell_type": "code",
   "execution_count": 10,
   "metadata": {},
   "outputs": [
    {
     "data": {
      "text/plain": [
       "<Response [403]>"
      ]
     },
     "execution_count": 10,
     "metadata": {},
     "output_type": "execute_result"
    }
   ],
   "source": [
    "url = 'https://www.opindia.com/latest-news/?nocache'\n",
    "data = requests.get(url)\n",
    "data"
   ]
  },
  {
   "cell_type": "markdown",
   "metadata": {},
   "source": [
    "## If you get reponse 200 then it is ok"
   ]
  },
  {
   "cell_type": "code",
   "execution_count": 5,
   "metadata": {},
   "outputs": [
    {
     "data": {
      "text/plain": [
       "\n",
       "<div style=\"height: 98vh;\">\n",
       "<div style=\"text-align: center; padding: 10% 0; font-family: Arial, Helvetica, sans-serif;\">\n",
       "<div><p>WordPress Backup &amp; Security Plugin - BlogVault Firewall</p></div>\n",
       "<p>Blocked because of Malicious Activities</p>\n",
       "<p>Reference ID: 507339076652a37446e8ff</p>\n",
       "</div>\n",
       "</div>"
      ]
     },
     "execution_count": 5,
     "metadata": {},
     "output_type": "execute_result"
    }
   ],
   "source": [
    "bs = BeautifulSoup(data.content)\n",
    "bs"
   ]
  },
  {
   "cell_type": "markdown",
   "metadata": {},
   "source": [
    "## Getting the urls for specific news articles"
   ]
  },
  {
   "cell_type": "code",
   "execution_count": 6,
   "metadata": {},
   "outputs": [
    {
     "data": {
      "text/plain": [
       "[]"
      ]
     },
     "execution_count": 6,
     "metadata": {},
     "output_type": "execute_result"
    }
   ],
   "source": [
    "headings = bs.find_all('h3',class_=\"entry-title td-module-title\")\n",
    "headings"
   ]
  },
  {
   "cell_type": "code",
   "execution_count": 7,
   "metadata": {},
   "outputs": [
    {
     "ename": "IndexError",
     "evalue": "list index out of range",
     "output_type": "error",
     "traceback": [
      "\u001b[1;31m---------------------------------------------------------------------------\u001b[0m",
      "\u001b[1;31mIndexError\u001b[0m                                Traceback (most recent call last)",
      "\u001b[1;32md:\\vs code mohit\\repository\\Advance Python\\Session 8 Webscrapping (12-Oct)\\webscrapping.ipynb Cell 12\u001b[0m line \u001b[0;36m1\n\u001b[1;32m----> <a href='vscode-notebook-cell:/d%3A/vs%20code%20mohit/repository/Advance%20Python/Session%208%20Webscrapping%20%2812-Oct%29/webscrapping.ipynb#X14sZmlsZQ%3D%3D?line=0'>1</a>\u001b[0m headings[\u001b[39m0\u001b[39;49m]\u001b[39m.\u001b[39mfind(\u001b[39m'\u001b[39m\u001b[39ma\u001b[39m\u001b[39m'\u001b[39m)\u001b[39m.\u001b[39mget(\u001b[39m'\u001b[39m\u001b[39mhref\u001b[39m\u001b[39m'\u001b[39m)\n",
      "\u001b[1;31mIndexError\u001b[0m: list index out of range"
     ]
    }
   ],
   "source": [
    "headings[0].find('a').get('href')"
   ]
  },
  {
   "cell_type": "code",
   "execution_count": 8,
   "metadata": {},
   "outputs": [
    {
     "ename": "IndexError",
     "evalue": "list index out of range",
     "output_type": "error",
     "traceback": [
      "\u001b[1;31m---------------------------------------------------------------------------\u001b[0m",
      "\u001b[1;31mIndexError\u001b[0m                                Traceback (most recent call last)",
      "\u001b[1;32md:\\vs code mohit\\repository\\Advance Python\\Session 8 Webscrapping (12-Oct)\\webscrapping.ipynb Cell 13\u001b[0m line \u001b[0;36m1\n\u001b[1;32m----> <a href='vscode-notebook-cell:/d%3A/vs%20code%20mohit/repository/Advance%20Python/Session%208%20Webscrapping%20%2812-Oct%29/webscrapping.ipynb#X15sZmlsZQ%3D%3D?line=0'>1</a>\u001b[0m headings[\u001b[39m1\u001b[39;49m]\u001b[39m.\u001b[39mfind(\u001b[39m'\u001b[39m\u001b[39ma\u001b[39m\u001b[39m'\u001b[39m)\u001b[39m.\u001b[39mget(\u001b[39m'\u001b[39m\u001b[39mhref\u001b[39m\u001b[39m'\u001b[39m)\n",
      "\u001b[1;31mIndexError\u001b[0m: list index out of range"
     ]
    }
   ],
   "source": [
    "headings[1].find('a').get('href')"
   ]
  },
  {
   "cell_type": "markdown",
   "metadata": {},
   "source": [
    "## Create a function to fetch all news article urls"
   ]
  },
  {
   "cell_type": "code",
   "execution_count": null,
   "metadata": {},
   "outputs": [],
   "source": [
    "def get_news_urls(url):\n",
    "    data = requests.get(url)\n",
    "    bs = BeautifulSoup(data.content)\n",
    "    headings = bs.find_all('h3',class_=\"entry-title td-module-title\")\n",
    "    links = []\n",
    "    for i in headings:\n",
    "        s = i.find('a').get('href')\n",
    "        links.append(s)\n",
    "    return links"
   ]
  },
  {
   "cell_type": "code",
   "execution_count": null,
   "metadata": {},
   "outputs": [
    {
     "data": {
      "text/plain": [
       "'https://www.opindia.com/latest-news/?nocache'"
      ]
     },
     "execution_count": 10,
     "metadata": {},
     "output_type": "execute_result"
    }
   ],
   "source": [
    "url"
   ]
  },
  {
   "cell_type": "code",
   "execution_count": null,
   "metadata": {},
   "outputs": [],
   "source": [
    "links = get_news_urls(url)"
   ]
  },
  {
   "cell_type": "code",
   "execution_count": null,
   "metadata": {},
   "outputs": [
    {
     "data": {
      "text/plain": [
       "['https://www.opindia.com/2023/10/ladakh-congress-working-president-asgar-ali-karbalai-justifies-atrocities-on-israeli-by-hamas-terrorists/',\n",
       " 'https://www.opindia.com/2023/10/tamil-nadu-muslim-groups-demands-release-of-muslim-prisoners-after-aiadmk-sought-release-of-coimbatore-bomb-convicts/',\n",
       " 'https://www.opindia.com/2023/10/new-karnataka-education-policy-yogendra-yadav-professor-japhet-who-drafted-anti-superstition-target-hindu-rituals-committee/',\n",
       " 'https://www.opindia.com/2023/10/iuml-rahul-gandhi-called-secular-extends-support-to-palestine-even-after-hamas-beheads-and-rapes-israelis/',\n",
       " 'https://www.opindia.com/2023/10/hindu-forum-canada-expresses-solidarity-with-canadian-jewish-groups-stage-protests-against-hamas/',\n",
       " 'https://www.opindia.com/2023/10/lessons-hamas-attack-israel-fake-genocide-of-muslims-india-justify-genocide-hindus-language-of-oppressed/',\n",
       " 'https://www.opindia.com/2023/10/ccommon-enemy-how-the-ummah-ignores-millions-of-muslim-victims-but-gets-together-against-jews-hindus-and-christians/',\n",
       " 'https://www.opindia.com/2023/10/the-hindu-creating-north-south-divide-repeatedly-lying-devolution-of-funds-misinformation/',\n",
       " 'https://www.opindia.com/2023/10/pm-modi-telangana-speeches-kcr-nda-tribal-university-political-game-change-state/',\n",
       " 'https://www.opindia.com/2023/10/fareed-zakaria-congress-leader-india-khalistani-hardeep-nijjar/',\n",
       " 'https://www.opindia.com/2023/10/did-hamas-supporter-accidentally-sets-himself-on-fire-while-burning-israeli-flag-know-the-truth-behind-viral-video/',\n",
       " 'https://www.opindia.com/2023/10/fact-check-sanjay-gandhi-hospital-amethi-121-dead-fake-news/',\n",
       " 'https://www.opindia.com/2023/09/viral-video-kapil-dev-kidnapped-netizens-react-call-it-promotional-gimmick/',\n",
       " 'https://www.opindia.com/2023/09/kirti-azad-tmc-fake-news-bjp-workers-protest-canada-canara-bank-fact-check/',\n",
       " 'https://www.opindia.com/2023/10/the-new-york-times-first-calls-hamas-terrorists-then-changes-to-gunmen/',\n",
       " 'https://www.opindia.com/2023/10/china-funding-cbi-registers-case-against-newsclick-for-fcra-violations/',\n",
       " 'https://www.opindia.com/2023/10/ravish-kumar-downplays-hamas-terror-attack-israel-peddles-conspiracy-theory/',\n",
       " 'https://www.opindia.com/2023/10/ex-indian-express-journalist-irena-akbar-defends-hamas-terrorist-shani-louk-killing/',\n",
       " 'https://www.opindia.com/2023/10/website-of-jerusalem-post-crashes-after-multiple-cyberattacks/',\n",
       " 'https://www.opindia.com/2023/10/up-complaint-against-goats-in-kanpur-for-stealing-flowers/',\n",
       " 'https://www.opindia.com/2023/10/anandotsav-new-bharatanatyam-festival-mumbai-future-india-ancient-dance-forms/',\n",
       " 'https://www.opindia.com/2023/09/kapilendra-deva-of-gajapati-dynasty-odisha-brought-an-end-to-the-tyranny-of-islamic-bahamani-sultanate-telangana/',\n",
       " 'https://www.opindia.com/2023/09/canada-parliament-speaker-apologises-for-celebrating-ukrainian-nazi-jewish-organisation-outraged/',\n",
       " 'https://www.opindia.com/2023/10/gaurakshaks-save-cows-in-pune-iqbal-alam-and-2-others-arrested/',\n",
       " 'https://www.opindia.com/2023/10/saud-familys-bloody-battles-with-ottomans-desert-warlords-and-partnership-with-the-usa-to-become-a-global-power/',\n",
       " 'https://www.opindia.com/2023/10/hamas-gaza-strip-palestine-israel/',\n",
       " 'https://www.opindia.com/2023/10/my-son-is-not-a-criminal-mother-of-nilesh-parmar-vadodara-stone-pelting/',\n",
       " 'https://www.opindia.com/2023/10/ladakh-congress-working-president-asgar-ali-karbalai-justifies-atrocities-on-israeli-by-hamas-terrorists/',\n",
       " 'https://www.opindia.com/2023/10/tamil-nadu-muslim-groups-demands-release-of-muslim-prisoners-after-aiadmk-sought-release-of-coimbatore-bomb-convicts/',\n",
       " 'https://www.opindia.com/2023/10/new-karnataka-education-policy-yogendra-yadav-professor-japhet-who-drafted-anti-superstition-target-hindu-rituals-committee/',\n",
       " 'https://www.opindia.com/2023/10/iuml-rahul-gandhi-called-secular-extends-support-to-palestine-even-after-hamas-beheads-and-rapes-israelis/',\n",
       " 'https://www.opindia.com/2023/10/hindu-forum-canada-expresses-solidarity-with-canadian-jewish-groups-stage-protests-against-hamas/',\n",
       " 'https://www.opindia.com/2023/10/lessons-hamas-attack-israel-fake-genocide-of-muslims-india-justify-genocide-hindus-language-of-oppressed/',\n",
       " 'https://www.opindia.com/2023/10/ccommon-enemy-how-the-ummah-ignores-millions-of-muslim-victims-but-gets-together-against-jews-hindus-and-christians/',\n",
       " 'https://www.opindia.com/2023/10/the-hindu-creating-north-south-divide-repeatedly-lying-devolution-of-funds-misinformation/',\n",
       " 'https://www.opindia.com/2023/10/pm-modi-telangana-speeches-kcr-nda-tribal-university-political-game-change-state/',\n",
       " 'https://www.opindia.com/2023/10/fareed-zakaria-congress-leader-india-khalistani-hardeep-nijjar/',\n",
       " 'https://www.opindia.com/2023/10/did-hamas-supporter-accidentally-sets-himself-on-fire-while-burning-israeli-flag-know-the-truth-behind-viral-video/',\n",
       " 'https://www.opindia.com/2023/10/fact-check-sanjay-gandhi-hospital-amethi-121-dead-fake-news/',\n",
       " 'https://www.opindia.com/2023/09/viral-video-kapil-dev-kidnapped-netizens-react-call-it-promotional-gimmick/',\n",
       " 'https://www.opindia.com/2023/09/kirti-azad-tmc-fake-news-bjp-workers-protest-canada-canara-bank-fact-check/',\n",
       " 'https://www.opindia.com/2023/10/the-new-york-times-first-calls-hamas-terrorists-then-changes-to-gunmen/',\n",
       " 'https://www.opindia.com/2023/10/china-funding-cbi-registers-case-against-newsclick-for-fcra-violations/',\n",
       " 'https://www.opindia.com/2023/10/ravish-kumar-downplays-hamas-terror-attack-israel-peddles-conspiracy-theory/',\n",
       " 'https://www.opindia.com/2023/10/ex-indian-express-journalist-irena-akbar-defends-hamas-terrorist-shani-louk-killing/',\n",
       " 'https://www.opindia.com/2023/10/website-of-jerusalem-post-crashes-after-multiple-cyberattacks/',\n",
       " 'https://www.opindia.com/2023/10/up-complaint-against-goats-in-kanpur-for-stealing-flowers/',\n",
       " 'https://www.opindia.com/2023/10/anandotsav-new-bharatanatyam-festival-mumbai-future-india-ancient-dance-forms/',\n",
       " 'https://www.opindia.com/2023/09/kapilendra-deva-of-gajapati-dynasty-odisha-brought-an-end-to-the-tyranny-of-islamic-bahamani-sultanate-telangana/',\n",
       " 'https://www.opindia.com/2023/09/canada-parliament-speaker-apologises-for-celebrating-ukrainian-nazi-jewish-organisation-outraged/',\n",
       " 'https://www.opindia.com/2023/10/gaurakshaks-save-cows-in-pune-iqbal-alam-and-2-others-arrested/',\n",
       " 'https://www.opindia.com/2023/10/saud-familys-bloody-battles-with-ottomans-desert-warlords-and-partnership-with-the-usa-to-become-a-global-power/',\n",
       " 'https://www.opindia.com/2023/10/hamas-gaza-strip-palestine-israel/',\n",
       " 'https://www.opindia.com/2023/10/my-son-is-not-a-criminal-mother-of-nilesh-parmar-vadodara-stone-pelting/',\n",
       " 'https://www.opindia.com/2023/10/french-president-emmanuel-macron-aras-stabbing-attack/',\n",
       " 'https://www.opindia.com/2023/10/operation-ajay-235-indian-nationals-evacuated-tel-aviv-israel-hamas-war/',\n",
       " 'https://www.opindia.com/2023/10/iran-sentences-cristiano-ronaldo-to-99-lashes-for-committing-adultery/',\n",
       " 'https://www.opindia.com/2023/10/iranian-ambassador-to-india-claims-iran-played-no-role-in-hamas-terror-attack-on-israel/',\n",
       " 'https://www.opindia.com/2023/10/traders-committee-urges-karnataka-govt-to-allow-muslim-vendors-on-temple-premises/',\n",
       " 'https://www.opindia.com/2023/10/did-hamas-supporter-accidentally-sets-himself-on-fire-while-burning-israeli-flag-know-the-truth-behind-viral-video/',\n",
       " 'https://www.opindia.com/2023/10/up-afzal-siddiqui-lures-hindu-girl-into-love-jihad-forces-her-to-convert/',\n",
       " 'https://www.opindia.com/2023/10/hamas-tells-gaza-city-residents-to-remain-in-their-houses-after-israel-warned-them-to-evacuate/',\n",
       " 'https://www.opindia.com/2023/10/karnataka-rs-42-crores-cash-recovered-from-contractor-ambikapathy-who-alleged-40-per-cent-commission-against-previous-bjp-govt/',\n",
       " 'https://www.opindia.com/2023/10/delhi-issues-security-alert-hightens-vigilance-after-hamas-urges-muslims-across-the-world-to-observe-friday-namaz-as-day-of-jihad-against-israel/',\n",
       " 'https://www.opindia.com/2023/10/hindus-attacked-during-protest-march-comilla-bangladesh-durga-puja-remarks/',\n",
       " 'https://www.opindia.com/2023/10/supreme-court-judges-divided-over-medical-termination-of-pregnancy/',\n",
       " 'https://www.opindia.com/2023/10/up-cm-yogi-adityanath-directs-police-to-act-against-those-spreading-hate-over-the-israel-palestine-conflict/',\n",
       " 'https://www.opindia.com/2023/10/ladakh-congress-working-president-asgar-ali-karbalai-justifies-atrocities-on-israeli-by-hamas-terrorists/',\n",
       " 'https://www.opindia.com/2023/10/tamil-nadu-muslim-groups-demands-release-of-muslim-prisoners-after-aiadmk-sought-release-of-coimbatore-bomb-convicts/',\n",
       " 'https://www.opindia.com/2023/10/beijing-israeli-diplomat-stabbed-in-broad-daylight-on-the-day-hamas-marked-for-global-jihad/',\n",
       " 'https://www.opindia.com/2023/10/france-school-knife-attack-man-screaming-allahu-akbar-kills-one-injures-others/',\n",
       " 'https://www.opindia.com/2023/10/indian-islamists-support-hamas-call-for-global-jihad-against-israel/',\n",
       " 'https://www.opindia.com/2023/10/promoters-of-mahadev-betting-app-had-links-with-dawood-ibrahims-d-company-enforcement-directorate/',\n",
       " 'https://www.opindia.com/2023/10/jewish-students-suffer-hate-and-violence-around-the-world-due-to-israel-hamas-war/',\n",
       " 'https://www.opindia.com/2023/10/islamist-arif-nashriyaat-with-over-90k-insta-followers-echoes-the-hamas-calls-for-a-global-jihad/',\n",
       " 'https://www.opindia.com/2023/10/delhi-police-patrols-area-around-jama-masjid-in-wake-of-hamas-call-to-global-ummah-to-mark-friday-prayers-as-day-of-jihad/',\n",
       " 'https://www.opindia.com/2023/10/no-place-for-terrorist-organisations-x-removes-hundreds-of-hamas-affiliated-accounts/',\n",
       " 'https://www.opindia.com/2023/10/delhi-high-court-dismisses-plea-challenging-arrest-of-newsclick-founder-prabir-purkayastha/',\n",
       " 'https://www.opindia.com/2023/10/sdpi-calls-for-district-level-solidarity-meetings-after-israeli-retaliation-hamas-terror-attacks-urges-indian-govt-to-back-palestine/',\n",
       " 'https://www.opindia.com/2023/10/adil-najibul-and-abu-arrested-helped-illegal-bangladeshi-migrants-to-enter-india-received-20-crore-foreign-funding/',\n",
       " 'https://www.opindia.com/2023/10/lessons-hamas-attack-israel-fake-genocide-of-muslims-india-justify-genocide-hindus-language-of-oppressed/',\n",
       " 'https://www.opindia.com/2023/10/israel-fauda-actor-idan-amedi-joins-israeli-defence-force-to-fight-hamas-terrorists/',\n",
       " 'https://www.opindia.com/2023/10/israel-warns-1-1-million-residents-of-north-gaza-to-move-to-the-south-of-wadi-gaza-within-24-hours/',\n",
       " 'https://www.opindia.com/2023/10/make-israel-stop-hitting-hamas-in-gaza-chief-of-ajmer-dargah-asks-un-modi-govt/',\n",
       " 'https://www.opindia.com/2023/10/us-govt-is-asking-americans-stuck-in-israel-to-pay-for-evacuation/',\n",
       " 'https://www.opindia.com/2023/10/france-germany-prohibit-pro-palestine-protests-hatred-against-jewish-citizens-intensifies-in-europe-hamas-call-for-jihad/',\n",
       " 'https://www.opindia.com/2023/10/santiago-martin-lottery-scam-case-enforcement-directorate-income-tax-department-raid/',\n",
       " 'https://www.opindia.com/2023/10/usa-petition-to-remove-yale-professor-zareena-grewal-who-had-justified-hamas-terrorist-attack-on-israel/',\n",
       " 'https://www.opindia.com/2023/10/operation-ajay-first-batch-212-indian-nationals-land-from-israel-thank-indian-govt-for-bringing-them-back/',\n",
       " 'https://www.opindia.com/2023/10/israel-defense-forces-captures-sufa-military-outpost-hamas-terrorists-neutralised-hostages-rescued/',\n",
       " 'https://www.opindia.com/2023/10/hamas-is-inhuman-israel-govt-shares-horrifying-photos-of-murdered-jewish-babies-from-kibbutz-kfar-aza-massacre/',\n",
       " 'https://www.opindia.com/2023/10/kerala-jamaat-e-islami-to-organise-event-to-show-solidarity-with-hamas-terrorists/',\n",
       " 'https://www.opindia.com/2023/10/batla-house-encounter-inspector-mohan-chand-sharmas-wife-to-move-sc-challenging-delhi-hc-order/',\n",
       " 'https://www.opindia.com/2023/10/israeli-ambassador-to-india-naor-gilon-says-hamas-has-links-with-isis/',\n",
       " 'https://www.opindia.com/2023/10/ex-formula-one-boss-bernie-ecclestone-pleads-guilty-of-tax-fraud/',\n",
       " 'https://www.opindia.com/2023/10/iit-b-veg-only-tables-row-professor-likens-vegetarians-to-militants/',\n",
       " 'https://www.opindia.com/2023/10/panchayat-called-to-settle-matter-after-madarsa-teacher-rapes-minor-girl-in-bihar/',\n",
       " 'https://www.opindia.com/2023/10/israel-bombs-runways-of-damascus-and-aleppo-airports-in-syria/',\n",
       " 'https://www.opindia.com/2023/10/gujarat-umreth-miscreants-pelt-stones-at-shiva-temple-uproot-saffron-flag/',\n",
       " 'https://www.opindia.com/2023/10/no-electricity-water-fuel-to-gaza-until-hamas-releases-hostages-israeli-minister/',\n",
       " 'https://www.opindia.com/2023/10/hamas-the-islamic-state-of-gaza-will-be-wiped-from-the-earth-says-israeli-defence-minister/',\n",
       " 'https://www.opindia.com/2023/10/aimplb-and-aimim-condemn-israel-for-retaliating-to-hamas-terror-attack/',\n",
       " 'https://www.opindia.com/2023/10/congress-leader-jailed-lashed-in-saudi-for-holding-poster-bharat-jodo-yatra-in-front-of-kaaba-eight-months-old-news-resurfaces-after-his-release/',\n",
       " 'https://www.opindia.com/2023/10/new-karnataka-education-policy-yogendra-yadav-professor-japhet-who-drafted-anti-superstition-target-hindu-rituals-committee/']"
      ]
     },
     "execution_count": 12,
     "metadata": {},
     "output_type": "execute_result"
    }
   ],
   "source": [
    "links"
   ]
  },
  {
   "cell_type": "code",
   "execution_count": null,
   "metadata": {},
   "outputs": [
    {
     "data": {
      "text/plain": [
       "104"
      ]
     },
     "execution_count": 13,
     "metadata": {},
     "output_type": "execute_result"
    }
   ],
   "source": [
    "len(links)"
   ]
  },
  {
   "cell_type": "code",
   "execution_count": null,
   "metadata": {},
   "outputs": [
    {
     "data": {
      "text/plain": [
       "'https://www.opindia.com/2023/10/tamil-nadu-muslim-groups-demands-release-of-muslim-prisoners-after-aiadmk-sought-release-of-coimbatore-bomb-convicts/'"
      ]
     },
     "execution_count": 14,
     "metadata": {},
     "output_type": "execute_result"
    }
   ],
   "source": [
    "links[1]\n"
   ]
  },
  {
   "cell_type": "code",
   "execution_count": null,
   "metadata": {},
   "outputs": [
    {
     "data": {
      "text/plain": [
       "'https://www.opindia.com/2023/10/ladakh-congress-working-president-asgar-ali-karbalai-justifies-atrocities-on-israeli-by-hamas-terrorists/'"
      ]
     },
     "execution_count": 15,
     "metadata": {},
     "output_type": "execute_result"
    }
   ],
   "source": [
    "links[0]"
   ]
  },
  {
   "cell_type": "markdown",
   "metadata": {},
   "source": [
    "## For url fetch news headings"
   ]
  },
  {
   "cell_type": "code",
   "execution_count": null,
   "metadata": {},
   "outputs": [
    {
     "data": {
      "text/plain": [
       "<Response [200]>"
      ]
     },
     "execution_count": 16,
     "metadata": {},
     "output_type": "execute_result"
    }
   ],
   "source": [
    "data2 = requests.get(links[0])\n",
    "data2"
   ]
  },
  {
   "cell_type": "code",
   "execution_count": null,
   "metadata": {},
   "outputs": [],
   "source": [
    "bs2 = BeautifulSoup(data2.content)"
   ]
  },
  {
   "cell_type": "code",
   "execution_count": null,
   "metadata": {},
   "outputs": [
    {
     "data": {
      "text/plain": [
       "'Ladakh Congress working president justifies Hamas atrocities on innocent Israelis, tries to falsely project ‘Palestinian Mujahideens’ as victims'"
      ]
     },
     "execution_count": 18,
     "metadata": {},
     "output_type": "execute_result"
    }
   ],
   "source": [
    "h = bs2.find('h1',class_='tdb-title-text').text\n",
    "h"
   ]
  },
  {
   "cell_type": "code",
   "execution_count": null,
   "metadata": {},
   "outputs": [
    {
     "data": {
      "text/plain": [
       "'13 October, 2023 '"
      ]
     },
     "execution_count": 19,
     "metadata": {},
     "output_type": "execute_result"
    }
   ],
   "source": [
    "t = bs2.find('time',class_='entry-date updated td-module-date').text\n",
    "t"
   ]
  },
  {
   "cell_type": "code",
   "execution_count": null,
   "metadata": {},
   "outputs": [
    {
     "data": {
      "text/plain": [
       "[<p>Umpteen visuals are available on the internet that depict the extent of brutality and savagery that Hamas has inflicted on Israeli civilians.</p>,\n",
       " <p>Along the lines of his higher-ups in Delhi, Asgar Ali Karbalai, the working executive president of Ladakh Congress has declared his unwavering support for the Palestinians and their terrorist organisation Hamas, which has been committing horrific atrocities and war crimes against Israel since it launched an unprecedented attack on the nation on October 7. </p>,\n",
       " <p dir=\"ltr\" lang=\"en\">‘Hamas Mujahideen from Gaza have started to take back their land from America’s pet Israel, killed and kidnapped Israeli soldiers. They have shown Israel ke wajood ki koi haisiyat nahi hai’: Congress Working President, Ladakh <a href=\"https://t.co/9oBM9Dr4Yg\">pic.twitter.com/9oBM9Dr4Yg</a></p>,\n",
       " <p>The Islamist terrorist organisation Hamas has been inflicting unspeakable violent crimes on Israeli civilians, including brutal murders, the beheading of children, rape, kidnap and taking hostage, yet the Congress leader, in a video <a href=\"https://archive.vn/GWarg\" rel=\"noreferrer noopener\" target=\"_blank\">shared</a> by Times Now, is heard hailing the Hamas terrorists and justifying the atrocities they have been committing.</p>,\n",
       " <p>He can be heard applauding the ‘Hamas Mujahideen’ from Gaza for carrying out attacks against Israel, which he refers to as the slave of the ‘biggest devils’- the United States of America. The Congress leader further lauded the Palestinians for conquering back their land which he claimed they lost to the Israelis.</p>,\n",
       " <p>The Congress leader proudly admitted that Hamas terrorists have killed and kidnapped several Israeli soldiers while justifying the atrocities that Hamas perpetrated against Israel and its defence forces as well as its innocent citizens. He exulted that the Palestinian mujahideen had shown to the world that they would never submit to the Israelis despite all the constraints, sanctions, and repression.</p>,\n",
       " <p>Further gushing over the war Hamas has declared against Israel, he said that the Palestinians have proven that “Israel ke wajood ki koi haisiyat nahi hai. Woh makde ke jaale see bhi kamjor hai, yeh unhone 7 October ko dikhla diya” (the existence of Israel is worthless. It is weaker than a spider’s web. This the Palestinians proved on October 7), he said.</p>,\n",
       " <p>Asgar Ali Karbalai, the working executive president of the Ladakh Congress, continued to blatantly lie projecting Israelis as the aggressors and the Palestinians as the victims despite the fact that Israel only launched counterattacks on Gaza as retaliation to the devastation and mass destruction Hamas terrorists caused in Israel. He claimed that the Israeli soldiers killed hundreds of Palestinian civilians and massacred their babies. </p>,\n",
       " <p>Though it is true that many civilians from both sides have fallen prey to the war that was started by the Hamas terrorists on October 7, there are umpteen videos and images available on the internet that depict the extent of brutality and savagery members of the Islamists terror organisation Hamas have inflicted on Israeli civilians and defence personnel in these last 5 days. </p>,\n",
       " <p>The numerous distressing visuals that have surfaced on social media, in fact, serve as evidence that Hamas terrorists have murdered over 1300 innocent Israeli people, including women, the elderly, and newborns, by shooting, stabbing, beheading, and even burning them alive. In fact, on Thursday, October 12, the Prime Minister’s Office in Israel took the extraordinary step of <a href=\"https://thehill.com/policy/international/4252927-us-shock-images-of-hamas-israel/\" rel=\"noreferrer noopener\" target=\"_blank\">releasing</a> gruesome photos of murdered babies to reporters and the public, seeking to underscore the atrocities carried out by Hamas in its savage rampage through southern Israel on Saturday. OpIndia also <a href=\"https://www.opindia.com/2023/10/hamas-terror-attack-on-israel-brutality-captured-on-camera-viral-videos/\" rel=\"noreferrer noopener\" target=\"_blank\">listed</a> 15 such videos showing how Hamas targeted innocent civilians and inflicted brutalities in Israel.</p>,\n",
       " <p>The views of Asgar Ali Karbalai, the working executive president of Ladakh Congress, were in tandem with his party supremos who had also <a href=\"https://web.archive.org/web/20231009135748/https://www.wionews.com/india-news/indias-congress-party-extends-support-for-palestinians-amid-hamas-attack-on-israel-calls-for-ceasefire-644564\" rel=\"noreferrer noopener\" target=\"_blank\">expressed</a> <a href=\"https://web.archive.org/web/20231009144128/https://www.indiatoday.in/india/story/congress-shows-support-to-palestinians-calls-for-cease-fire-between-israel-hamas-2446584-2023-10-09\" rel=\"noreferrer noopener\" target=\"_blank\">sympathy</a><a href=\"https://web.archive.org/web/20231009144128/https://www.indiatoday.in/india/story/congress-shows-support-to-palestinians-calls-for-cease-fire-between-israel-hamas-2446584-2023-10-09\"> </a>for Palestinians. A resolution<a href=\"https://www.opindia.com/2023/10/hamas-terrorist-attack-congress-party-declares-support-palestinians/\" rel=\"noreferrer noopener\" target=\"_blank\"> passed</a> on October 9, by the Congress Working Committee (CWC) voiced concern over the situation and urged for a ceasefire. The resolution however backed the Palestinian people’s rights.</p>,\n",
       " <p>The Congress party’s official statement emphasised the process of “dialogue and negotiations” to resolve the problem between Israel and Palestine.</p>,\n",
       " <p dir=\"ltr\" lang=\"en\">India's Congress party comes in support of Palestine after a key meeting <a href=\"https://t.co/5XqyfamvVH\">https://t.co/5XqyfamvVH</a></p>,\n",
       " <p>“The Indian National Congress has always believed that the legitimate aspirations of the Palestinian people for a life of self-respect, equality, and dignity must be fulfilled only through a process of dialogue and negotiations while ensuring the legitimate national security interests of the Israeli people. Violence of any type never provides a solution and must stop,” an X (formerly Twitter) post by Congress said.</p>,\n",
       " <p class=\"tdm-descr\">Whether NDTV or 'The Wire', they never have to worry about funds. In name of saving democracy, they get money from various sources. We need your support to fight them. Please contribute whatever you can afford</p>,\n",
       " <p><div class=\"td-image-container\"><a href=\"https://feedburner.google.com/fb/a/mailverify?uri=OpIndia&amp;loc=en_US\" rel=\"noopener\" target=\"_blank\"><img alt=\"Subscribe to OpIndia newsletter\" class=\"jetpack-lazy-image\" data-lazy-src=\"https://i0.wp.com/www.opindia.com/wp-content/uploads/tdn_pic_3.png?w=696&amp;is-pending-load=1#038;ssl=1\" data-recalc-dims=\"1\" src=\"https://i0.wp.com/www.opindia.com/wp-content/uploads/tdn_pic_3.png?w=696&amp;ssl=1\" srcset=\"data:image/gif;base64,R0lGODlhAQABAIAAAAAAAP///yH5BAEAAAAALAAAAAABAAEAAAIBRAA7\"/><noscript><img alt=\"Subscribe to OpIndia newsletter\" data-lazy-fallback=\"1\" data-recalc-dims=\"1\" src=\"https://i0.wp.com/www.opindia.com/wp-content/uploads/tdn_pic_3.png?w=696&amp;ssl=1\"/></noscript></a></div><p><h3><b>Subscribe to our Newsletter</b></h3>Each morning, get an email to keep updated with all the news, opinions and analysis published by OpIndia.</p><p>Enter your email address:</p><p><input name=\"email\" style=\"width:200px\" type=\"text\"/></p><input name=\"uri\" type=\"hidden\" value=\"OpIndia\"/><input name=\"loc\" type=\"hidden\" value=\"en_US\"/><input type=\"submit\" value=\"Subscribe\"/></p>,\n",
       " <p><h3><b>Subscribe to our Newsletter</b></h3>Each morning, get an email to keep updated with all the news, opinions and analysis published by OpIndia.</p>,\n",
       " <p>Enter your email address:</p>,\n",
       " <p><input name=\"email\" style=\"width:200px\" type=\"text\"/></p>,\n",
       " <p class=\"tdm-descr\">Contact: <a class=\"__cf_email__\" data-cfemail=\"630a0d050c230c130a0d070a024d000c0e\" href=\"/cdn-cgi/l/email-protection\">[email protected]</a></p>,\n",
       " <p class=\"tdm-descr\">News and opinion website that brings you reports and narrative from a perspective often ignored or suppressed by the mainstream media of India.</p>,\n",
       " <p class=\"tdm-descr\">© OpIndia.com</p>]"
      ]
     },
     "execution_count": 20,
     "metadata": {},
     "output_type": "execute_result"
    }
   ],
   "source": [
    "content = bs2.find_all('p')\n",
    "content"
   ]
  },
  {
   "cell_type": "code",
   "execution_count": null,
   "metadata": {},
   "outputs": [
    {
     "data": {
      "text/plain": [
       "'Umpteen visuals are available on the internet that depict the extent of brutality and savagery that Hamas has inflicted on Israeli civilians.'"
      ]
     },
     "execution_count": 21,
     "metadata": {},
     "output_type": "execute_result"
    }
   ],
   "source": [
    "content[0].text"
   ]
  },
  {
   "cell_type": "code",
   "execution_count": null,
   "metadata": {},
   "outputs": [],
   "source": [
    "news = \"\"\n",
    "for i in content:\n",
    "    news = news + i.text"
   ]
  },
  {
   "cell_type": "code",
   "execution_count": null,
   "metadata": {},
   "outputs": [
    {
     "name": "stdout",
     "output_type": "stream",
     "text": [
      "Umpteen visuals are available on the internet that depict the extent of brutality and savagery that Hamas has inflicted on Israeli civilians.Along the lines of his higher-ups in Delhi, Asgar Ali Karbalai, the working executive president of Ladakh Congress has declared his unwavering support for the Palestinians and their terrorist organisation Hamas, which has been committing horrific atrocities and war crimes against Israel since it launched an unprecedented attack on the nation on October 7. ‘Hamas Mujahideen from Gaza have started to take back their land from America’s pet Israel, killed and kidnapped Israeli soldiers. They have shown Israel ke wajood ki koi haisiyat nahi hai’: Congress Working President, Ladakh pic.twitter.com/9oBM9Dr4YgThe Islamist terrorist organisation Hamas has been inflicting unspeakable violent crimes on Israeli civilians, including brutal murders, the beheading of children, rape, kidnap and taking hostage, yet the Congress leader, in a video shared by Times Now, is heard hailing the Hamas terrorists and justifying the atrocities they have been committing.He can be heard applauding the ‘Hamas Mujahideen’ from Gaza for carrying out attacks against Israel, which he refers to as the slave of the ‘biggest devils’- the United States of America. The Congress leader further lauded the Palestinians for conquering back their land which he claimed they lost to the Israelis.The Congress leader proudly admitted that Hamas terrorists have killed and kidnapped several Israeli soldiers while justifying the atrocities that Hamas perpetrated against Israel and its defence forces as well as its innocent citizens. He exulted that the Palestinian mujahideen had shown to the world that they would never submit to the Israelis despite all the constraints, sanctions, and repression.Further gushing over the war Hamas has declared against Israel, he said that the Palestinians have proven that “Israel ke wajood ki koi haisiyat nahi hai. Woh makde ke jaale see bhi kamjor hai, yeh unhone 7 October ko dikhla diya” (the existence of Israel is worthless. It is weaker than a spider’s web. This the Palestinians proved on October 7), he said.Asgar Ali Karbalai, the working executive president of the Ladakh Congress, continued to blatantly lie projecting Israelis as the aggressors and the Palestinians as the victims despite the fact that Israel only launched counterattacks on Gaza as retaliation to the devastation and mass destruction Hamas terrorists caused in Israel. He claimed that the Israeli soldiers killed hundreds of Palestinian civilians and massacred their babies. Though it is true that many civilians from both sides have fallen prey to the war that was started by the Hamas terrorists on October 7, there are umpteen videos and images available on the internet that depict the extent of brutality and savagery members of the Islamists terror organisation Hamas have inflicted on Israeli civilians and defence personnel in these last 5 days. The numerous distressing visuals that have surfaced on social media, in fact, serve as evidence that Hamas terrorists have murdered over 1300 innocent Israeli people, including women, the elderly, and newborns, by shooting, stabbing, beheading, and even burning them alive. In fact, on Thursday, October 12, the Prime Minister’s Office in Israel took the extraordinary step of releasing gruesome photos of murdered babies to reporters and the public, seeking to underscore the atrocities carried out by Hamas in its savage rampage through southern Israel on Saturday. OpIndia also listed 15 such videos showing how Hamas targeted innocent civilians and inflicted brutalities in Israel.The views of Asgar Ali Karbalai, the working executive president of Ladakh Congress, were in tandem with his party supremos who had also expressed sympathy for Palestinians. A resolution passed on October 9, by the Congress Working Committee (CWC) voiced concern over the situation and urged for a ceasefire. The resolution however backed the Palestinian people’s rights.The Congress party’s official statement emphasised the process of “dialogue and negotiations” to resolve the problem between Israel and Palestine.India's Congress party comes in support of Palestine after a key meeting https://t.co/5XqyfamvVH“The Indian National Congress has always believed that the legitimate aspirations of the Palestinian people for a life of self-respect, equality, and dignity must be fulfilled only through a process of dialogue and negotiations while ensuring the legitimate national security interests of the Israeli people. Violence of any type never provides a solution and must stop,” an X (formerly Twitter) post by Congress said.Whether NDTV or 'The Wire', they never have to worry about funds. In name of saving democracy, they get money from various sources. We need your support to fight them. Please contribute whatever you can affordSubscribe to our NewsletterEach morning, get an email to keep updated with all the news, opinions and analysis published by OpIndia.Enter your email address:Subscribe to our NewsletterEach morning, get an email to keep updated with all the news, opinions and analysis published by OpIndia.Enter your email address:Contact: [email protected]News and opinion website that brings you reports and narrative from a perspective often ignored or suppressed by the mainstream media of India.© OpIndia.com\n"
     ]
    }
   ],
   "source": [
    "print(news)"
   ]
  },
  {
   "cell_type": "code",
   "execution_count": null,
   "metadata": {},
   "outputs": [],
   "source": [
    "def get_news_details(url):\n",
    "    data2 = requests.get(url)\n",
    "    bs2 = BeautifulSoup(data2.content)\n",
    "    h = bs2.find('h1',class_='tdb-title-text').text\n",
    "    t = bs2.find('time',class_=\"entry-date updated td-module-date\").text\n",
    "    cont = bs2.find_all('p')\n",
    "    news = \"\"\n",
    "    for i in cont:\n",
    "        news = news + i.text\n",
    "    return h,t, news "
   ]
  },
  {
   "cell_type": "code",
   "execution_count": null,
   "metadata": {},
   "outputs": [
    {
     "data": {
      "text/plain": [
       "'https://www.opindia.com/2023/10/ladakh-congress-working-president-asgar-ali-karbalai-justifies-atrocities-on-israeli-by-hamas-terrorists/'"
      ]
     },
     "execution_count": 25,
     "metadata": {},
     "output_type": "execute_result"
    }
   ],
   "source": [
    "links[0]"
   ]
  },
  {
   "cell_type": "code",
   "execution_count": null,
   "metadata": {},
   "outputs": [],
   "source": [
    "h,t,news = get_news_details(links[0])"
   ]
  },
  {
   "cell_type": "code",
   "execution_count": null,
   "metadata": {},
   "outputs": [
    {
     "data": {
      "text/plain": [
       "'Ladakh Congress working president justifies Hamas atrocities on innocent Israelis, tries to falsely project ‘Palestinian Mujahideens’ as victims'"
      ]
     },
     "execution_count": 27,
     "metadata": {},
     "output_type": "execute_result"
    }
   ],
   "source": [
    "h"
   ]
  },
  {
   "cell_type": "code",
   "execution_count": null,
   "metadata": {},
   "outputs": [
    {
     "data": {
      "text/plain": [
       "'13 October, 2023 '"
      ]
     },
     "execution_count": 28,
     "metadata": {},
     "output_type": "execute_result"
    }
   ],
   "source": [
    "t"
   ]
  },
  {
   "cell_type": "code",
   "execution_count": null,
   "metadata": {},
   "outputs": [
    {
     "data": {
      "text/plain": [
       "\"Umpteen visuals are available on the internet that depict the extent of brutality and savagery that Hamas has inflicted on Israeli civilians.Along the lines of his higher-ups in Delhi, Asgar Ali Karbalai, the working executive president of Ladakh Congress has declared his unwavering support for the Palestinians and their terrorist organisation Hamas, which has been committing horrific atrocities and war crimes against Israel since it launched an unprecedented attack on the nation on October 7. ‘Hamas Mujahideen from Gaza have started to take back their land from America’s pet Israel, killed and kidnapped Israeli soldiers. They have shown Israel ke wajood ki koi haisiyat nahi hai’: Congress Working President, Ladakh pic.twitter.com/9oBM9Dr4YgThe Islamist terrorist organisation Hamas has been inflicting unspeakable violent crimes on Israeli civilians, including brutal murders, the beheading of children, rape, kidnap and taking hostage, yet the Congress leader, in a video shared by Times Now, is heard hailing the Hamas terrorists and justifying the atrocities they have been committing.He can be heard applauding the ‘Hamas Mujahideen’ from Gaza for carrying out attacks\\xa0against Israel, which he\\xa0refers to as the slave of the ‘biggest devils’-\\xa0the United States of America. The Congress leader further lauded the Palestinians for conquering back their land which he claimed they lost to the Israelis.The Congress leader proudly admitted that Hamas terrorists have killed and kidnapped several Israeli soldiers while justifying the atrocities that Hamas perpetrated against Israel and its defence forces as well as its innocent citizens. He exulted that the Palestinian mujahideen had shown to the world that they would never submit to the Israelis despite all the constraints, sanctions, and repression.Further gushing over the war Hamas has declared against Israel, he said that the Palestinians have proven that “Israel ke wajood ki koi haisiyat nahi hai. Woh makde ke jaale see bhi kamjor hai, yeh unhone 7 October ko dikhla diya” (the existence of Israel is worthless. It is weaker than a spider’s web. This the Palestinians proved on October 7), he said.Asgar Ali Karbalai, the working executive president of the Ladakh Congress, continued to blatantly lie projecting\\xa0Israelis as the aggressors and the Palestinians as the victims despite the fact that Israel only launched counterattacks on Gaza as retaliation to the devastation and mass destruction Hamas terrorists caused in Israel. He claimed that the Israeli soldiers killed hundreds of Palestinian civilians and massacred their babies. Though it is true that many civilians from both sides have fallen prey to the war that was started by the Hamas terrorists on October 7, there are umpteen videos and images available on the internet that depict the extent of brutality and savagery members of the Islamists terror organisation Hamas have inflicted on Israeli civilians and defence personnel in these last 5 days. The numerous distressing visuals that have surfaced on social media, in fact, serve as evidence that Hamas terrorists have murdered over 1300 innocent Israeli people, including women, the elderly, and newborns, by shooting, stabbing, beheading, and even burning them alive. In fact, on Thursday, October 12, the Prime Minister’s Office in Israel took the extraordinary step of releasing gruesome photos of murdered babies to reporters and the public, seeking to underscore the atrocities carried out by Hamas in its savage rampage through southern Israel on Saturday. OpIndia also listed 15 such videos showing how Hamas targeted innocent civilians and inflicted brutalities in Israel.The views of Asgar Ali Karbalai, the working executive president of Ladakh Congress, were in tandem with his party supremos who had also expressed\\xa0sympathy\\xa0for Palestinians. A resolution passed on October 9, by the Congress Working Committee (CWC) voiced concern over the situation and urged for a ceasefire. The resolution however\\xa0backed the Palestinian people’s rights.The Congress party’s official statement emphasised the process of “dialogue and negotiations” to resolve the problem between Israel and Palestine.India's Congress party comes in support of Palestine after a key meeting https://t.co/5XqyfamvVH“The Indian National Congress has always believed that the legitimate aspirations of the Palestinian people for a life of self-respect, equality, and dignity must be fulfilled only through a process of dialogue and negotiations while ensuring the legitimate national security interests of the Israeli people. Violence of any type never provides a solution and must stop,” an X (formerly Twitter) post by Congress said.Whether NDTV or 'The Wire', they never have to worry about funds. In name of saving democracy, they get money from various sources. We need your support to fight them. Please contribute whatever you can affordSubscribe to our NewsletterEach morning, get an email to keep updated with all the news, opinions and analysis published by OpIndia.Enter your email address:Subscribe to our NewsletterEach morning, get an email to keep updated with all the news, opinions and analysis published by OpIndia.Enter your email address:Contact: [email\\xa0protected]News and opinion website that brings you reports and narrative from a perspective often ignored or suppressed by the mainstream media of India.© OpIndia.com\""
      ]
     },
     "execution_count": 29,
     "metadata": {},
     "output_type": "execute_result"
    }
   ],
   "source": [
    "news"
   ]
  },
  {
   "cell_type": "markdown",
   "metadata": {},
   "source": [
    "## Saving all the data into DataFrame"
   ]
  },
  {
   "cell_type": "code",
   "execution_count": null,
   "metadata": {},
   "outputs": [],
   "source": [
    "import pandas as pd\n",
    "def get_news_DataFrame(url):\n",
    "    # Get news links\n",
    "    links = get_news_urls(url)\n",
    "    date = []\n",
    "    title = []\n",
    "    article = []\n",
    "    # GEt news details\n",
    "    for i in links:\n",
    "        h,t,news = get_news_details(i)\n",
    "        title.append(h)\n",
    "        date.append(t)\n",
    "        article.append(news)\n",
    "    # create a dictionary\n",
    "    dct = {'Date':date,\n",
    "           'Headings':title,\n",
    "           'News':article,\n",
    "           'url':links}\n",
    "    # Create a DataFrame\n",
    "    df = pd.DataFrame(dct)\n",
    "    return df"
   ]
  },
  {
   "cell_type": "code",
   "execution_count": null,
   "metadata": {},
   "outputs": [
    {
     "data": {
      "text/plain": [
       "'https://www.opindia.com/latest-news/?nocache'"
      ]
     },
     "execution_count": 31,
     "metadata": {},
     "output_type": "execute_result"
    }
   ],
   "source": [
    "url"
   ]
  },
  {
   "cell_type": "code",
   "execution_count": null,
   "metadata": {},
   "outputs": [],
   "source": [
    "df = get_news_DataFrame(url)"
   ]
  },
  {
   "cell_type": "code",
   "execution_count": null,
   "metadata": {},
   "outputs": [
    {
     "data": {
      "text/html": [
       "<div>\n",
       "<style scoped>\n",
       "    .dataframe tbody tr th:only-of-type {\n",
       "        vertical-align: middle;\n",
       "    }\n",
       "\n",
       "    .dataframe tbody tr th {\n",
       "        vertical-align: top;\n",
       "    }\n",
       "\n",
       "    .dataframe thead th {\n",
       "        text-align: right;\n",
       "    }\n",
       "</style>\n",
       "<table border=\"1\" class=\"dataframe\">\n",
       "  <thead>\n",
       "    <tr style=\"text-align: right;\">\n",
       "      <th></th>\n",
       "      <th>Date</th>\n",
       "      <th>Headings</th>\n",
       "      <th>News</th>\n",
       "      <th>url</th>\n",
       "    </tr>\n",
       "  </thead>\n",
       "  <tbody>\n",
       "    <tr>\n",
       "      <th>0</th>\n",
       "      <td>13 October, 2023</td>\n",
       "      <td>Ladakh Congress working president justifies Ha...</td>\n",
       "      <td>Umpteen visuals are available on the internet ...</td>\n",
       "      <td>https://www.opindia.com/2023/10/ladakh-congres...</td>\n",
       "    </tr>\n",
       "    <tr>\n",
       "      <th>1</th>\n",
       "      <td>13 October, 2023</td>\n",
       "      <td>Politics of prisoners heats up in Tamil Nadu: ...</td>\n",
       "      <td>CM Stalin questioned AIADMK for their sudden d...</td>\n",
       "      <td>https://www.opindia.com/2023/10/tamil-nadu-mus...</td>\n",
       "    </tr>\n",
       "    <tr>\n",
       "      <th>2</th>\n",
       "      <td>12 October, 2023</td>\n",
       "      <td>New Karnataka education policy: Yogendra Yadav...</td>\n",
       "      <td>It is notable that the \"Duggal Sahab\" of polit...</td>\n",
       "      <td>https://www.opindia.com/2023/10/new-karnataka-...</td>\n",
       "    </tr>\n",
       "    <tr>\n",
       "      <th>3</th>\n",
       "      <td>11 October, 2023</td>\n",
       "      <td>IUML, which Rahul Gandhi called secular, exten...</td>\n",
       "      <td>Notably, while the Indian Union Muslim League ...</td>\n",
       "      <td>https://www.opindia.com/2023/10/iuml-rahul-gan...</td>\n",
       "    </tr>\n",
       "    <tr>\n",
       "      <th>4</th>\n",
       "      <td>11 October, 2023</td>\n",
       "      <td>Hindu Forum Canada joins forces with Canadian ...</td>\n",
       "      <td>The Hindu Forum Canada released a statement co...</td>\n",
       "      <td>https://www.opindia.com/2023/10/hindu-forum-ca...</td>\n",
       "    </tr>\n",
       "    <tr>\n",
       "      <th>...</th>\n",
       "      <td>...</td>\n",
       "      <td>...</td>\n",
       "      <td>...</td>\n",
       "      <td>...</td>\n",
       "    </tr>\n",
       "    <tr>\n",
       "      <th>99</th>\n",
       "      <td>12 October, 2023</td>\n",
       "      <td>No electric switch will be turned on, no water...</td>\n",
       "      <td>Israel has vowed to destroy Hamas and declared...</td>\n",
       "      <td>https://www.opindia.com/2023/10/no-electricity...</td>\n",
       "    </tr>\n",
       "    <tr>\n",
       "      <th>100</th>\n",
       "      <td>12 October, 2023</td>\n",
       "      <td>Hamas — the Islamic State of Gaza — will be wi...</td>\n",
       "      <td>Talking in a press conference of the newly for...</td>\n",
       "      <td>https://www.opindia.com/2023/10/hamas-the-isla...</td>\n",
       "    </tr>\n",
       "    <tr>\n",
       "      <th>101</th>\n",
       "      <td>12 October, 2023</td>\n",
       "      <td>AIMPLB and Asaduddin Owaisi say Hamas terroris...</td>\n",
       "      <td>PM Modi has categorically condemned the attack...</td>\n",
       "      <td>https://www.opindia.com/2023/10/aimplb-and-aim...</td>\n",
       "    </tr>\n",
       "    <tr>\n",
       "      <th>102</th>\n",
       "      <td>12 October, 2023</td>\n",
       "      <td>Old news of Congress leader getting arrested a...</td>\n",
       "      <td>In January, the youth Congress leader shared h...</td>\n",
       "      <td>https://www.opindia.com/2023/10/congress-leade...</td>\n",
       "    </tr>\n",
       "    <tr>\n",
       "      <th>103</th>\n",
       "      <td>12 October, 2023</td>\n",
       "      <td>New Karnataka education policy: Yogendra Yadav...</td>\n",
       "      <td>It is notable that the \"Duggal Sahab\" of polit...</td>\n",
       "      <td>https://www.opindia.com/2023/10/new-karnataka-...</td>\n",
       "    </tr>\n",
       "  </tbody>\n",
       "</table>\n",
       "<p>104 rows × 4 columns</p>\n",
       "</div>"
      ],
      "text/plain": [
       "                  Date                                           Headings  \\\n",
       "0    13 October, 2023   Ladakh Congress working president justifies Ha...   \n",
       "1    13 October, 2023   Politics of prisoners heats up in Tamil Nadu: ...   \n",
       "2    12 October, 2023   New Karnataka education policy: Yogendra Yadav...   \n",
       "3    11 October, 2023   IUML, which Rahul Gandhi called secular, exten...   \n",
       "4    11 October, 2023   Hindu Forum Canada joins forces with Canadian ...   \n",
       "..                 ...                                                ...   \n",
       "99   12 October, 2023   No electric switch will be turned on, no water...   \n",
       "100  12 October, 2023   Hamas — the Islamic State of Gaza — will be wi...   \n",
       "101  12 October, 2023   AIMPLB and Asaduddin Owaisi say Hamas terroris...   \n",
       "102  12 October, 2023   Old news of Congress leader getting arrested a...   \n",
       "103  12 October, 2023   New Karnataka education policy: Yogendra Yadav...   \n",
       "\n",
       "                                                  News  \\\n",
       "0    Umpteen visuals are available on the internet ...   \n",
       "1    CM Stalin questioned AIADMK for their sudden d...   \n",
       "2    It is notable that the \"Duggal Sahab\" of polit...   \n",
       "3    Notably, while the Indian Union Muslim League ...   \n",
       "4    The Hindu Forum Canada released a statement co...   \n",
       "..                                                 ...   \n",
       "99   Israel has vowed to destroy Hamas and declared...   \n",
       "100  Talking in a press conference of the newly for...   \n",
       "101  PM Modi has categorically condemned the attack...   \n",
       "102  In January, the youth Congress leader shared h...   \n",
       "103  It is notable that the \"Duggal Sahab\" of polit...   \n",
       "\n",
       "                                                   url  \n",
       "0    https://www.opindia.com/2023/10/ladakh-congres...  \n",
       "1    https://www.opindia.com/2023/10/tamil-nadu-mus...  \n",
       "2    https://www.opindia.com/2023/10/new-karnataka-...  \n",
       "3    https://www.opindia.com/2023/10/iuml-rahul-gan...  \n",
       "4    https://www.opindia.com/2023/10/hindu-forum-ca...  \n",
       "..                                                 ...  \n",
       "99   https://www.opindia.com/2023/10/no-electricity...  \n",
       "100  https://www.opindia.com/2023/10/hamas-the-isla...  \n",
       "101  https://www.opindia.com/2023/10/aimplb-and-aim...  \n",
       "102  https://www.opindia.com/2023/10/congress-leade...  \n",
       "103  https://www.opindia.com/2023/10/new-karnataka-...  \n",
       "\n",
       "[104 rows x 4 columns]"
      ]
     },
     "execution_count": 33,
     "metadata": {},
     "output_type": "execute_result"
    }
   ],
   "source": [
    "df"
   ]
  },
  {
   "cell_type": "markdown",
   "metadata": {},
   "source": [
    "## Save this to csv file\n"
   ]
  },
  {
   "cell_type": "code",
   "execution_count": null,
   "metadata": {},
   "outputs": [],
   "source": [
    "df.to_csv('OpindiaNews.csv')"
   ]
  },
  {
   "cell_type": "code",
   "execution_count": null,
   "metadata": {},
   "outputs": [],
   "source": []
  }
 ],
 "metadata": {
  "kernelspec": {
   "display_name": "venv",
   "language": "python",
   "name": "python3"
  },
  "language_info": {
   "codemirror_mode": {
    "name": "ipython",
    "version": 3
   },
   "file_extension": ".py",
   "mimetype": "text/x-python",
   "name": "python",
   "nbconvert_exporter": "python",
   "pygments_lexer": "ipython3",
   "version": "3.11.5"
  }
 },
 "nbformat": 4,
 "nbformat_minor": 2
}
